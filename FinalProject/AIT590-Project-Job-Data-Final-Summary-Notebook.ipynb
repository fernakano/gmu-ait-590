{
 "cells": [
  {
   "cell_type": "markdown",
   "metadata": {},
   "source": [
    "# AIT 590 Project TF-IDF Job Data Work \n",
    "- Team 3:  Melissa, Fernando, Archer\n",
    "- Final combined notebook\n",
    "\n",
    "\n",
    "##### References\n",
    "- https://medium.com/@adriensieg/text-similarities-da019229c894\n",
    "- https://www.datacamp.com/community/tutorials/recommender-systems-python\n",
    "- https://stackoverflow.com/questions/26826002/adding-words-to-stop-words-list-in-tfidfvectorizer-in-sklearn\n",
    "- https://medium.com/@adriensieg/text-similarities-da019229c894\n",
    "- https://stackoverflow.com/questions/47557563/lemmatization-of-all-pandas-cells\n",
    "- https://www.geeksforgeeks.org/python-measure-similarity-between-two-sentences-using-cosine-similarity"
   ]
  },
  {
   "cell_type": "code",
   "execution_count": 1,
   "metadata": {},
   "outputs": [
    {
     "name": "stdout",
     "output_type": "stream",
     "text": [
      "/Users/fernak/Git/ait590-Assignments/FinalProject\r\n"
     ]
    }
   ],
   "source": [
    "!pwd\n",
    "\n",
    "import pandas as pd\n",
    "import numpy as np\n",
    "import nltk\n",
    "import json\n",
    "import re\n",
    "import pickle\n",
    "import os\n",
    "\n",
    "from sklearn.feature_extraction.text import TfidfVectorizer, ENGLISH_STOP_WORDS\n",
    "from sklearn.feature_extraction.text import CountVectorizer\n",
    "from sklearn.metrics.pairwise import cosine_similarity\n",
    "from sklearn.metrics.pairwise import linear_kernel\n",
    "\n",
    "import spacy\n",
    "import en_core_web_sm  # english model\n",
    "\n",
    "# load English tokenizer, tagger, parser, NER and word vectors\n",
    "nlp = en_core_web_sm.load()\n",
    "\n"
   ]
  },
  {
   "cell_type": "code",
   "execution_count": 2,
   "metadata": {},
   "outputs": [],
   "source": [
    "version = 9\n",
    "df = None"
   ]
  },
  {
   "cell_type": "markdown",
   "metadata": {},
   "source": [
    "### Load and view data\n",
    "\n",
    "- 10,501 job listing records"
   ]
  },
  {
   "cell_type": "code",
   "execution_count": 3,
   "metadata": {},
   "outputs": [
    {
     "name": "stdout",
     "output_type": "stream",
     "text": [
      "dict_keys(['salary', 'domain', 'education', 'crawled_at', 'description', 'title', 'skills', 'country', 'raw_description', 'locality', 'posted_at', 'longitude', 'postalCode', 'url', 'experience', 'address', 'latitude', '_id', 'company', 'region', 'employment_type'])\n"
     ]
    },
    {
     "data": {
      "text/plain": "{'salary': '$65,000.00 - $120,000.00 / year',\n 'domain': 'https://www.careerbuilder.com/',\n 'education': 'High School',\n 'crawled_at': '05/05/2021, 03:01:51',\n 'description': 'Job Description\\n New York Life and its affiliates are dedicated to prudent financial management, high-quality products, and impeccable service. Our financial professionals help clients develop a long-term financial strategy to achieve their financial goals using a comprehensive array of financial products and services, including life insurance, investments, annuities, and mutual funds. \\n As a financial professional with New York Life, you will be able to build your practice and help those in your community plan for their financial futures. We’re looking for people who possess the following characteristics: \\n\\n Highly self-motivated and self-disciplined with the ability to work effectively and independently \\n Outgoing personality with the ability to develop relationships (i.e., “People Person\") and a sincere desire to help others \\n Fearless, positive attitude and willingness to be accountable for results \\n Organized, detail-oriented and excellent time-management skills \\n Desire for continuous learning \\n Good communicator—excellent listening skills and ability to explain complex information in a simple and concise manner \\n\\n\\nJob Requirements\\nAs a financial professional with New York Life, you will be able to build your practice and help those in your community plan for their financial futures.\\xa0\\xa0We’re looking for people who possess the following characteristics:\\n·\\xa0\\xa0\\xa0\\xa0\\xa0\\xa0\\xa0\\xa0Highly self-motivated and self-disciplined with the ability to work effectively and independently\\n·\\xa0\\xa0\\xa0\\xa0\\xa0\\xa0\\xa0\\xa0Outgoing personality with the ability to develop relationships (i.e., “People Person\") and a sincere desire to help others\\n·\\xa0\\xa0\\xa0\\xa0\\xa0\\xa0\\xa0\\xa0Fearless, positive attitude and willingness to be accountable for results\\n·\\xa0\\xa0\\xa0\\xa0\\xa0\\xa0\\xa0\\xa0Organized, detail-oriented and excellent time-management skills\\n·\\xa0\\xa0\\xa0\\xa0\\xa0\\xa0\\xa0\\xa0Desire for continuous learning\\n·\\xa0\\xa0\\xa0\\xa0\\xa0\\xa0\\xa0\\xa0Good communicator—excellent listening skills and ability to explain complex information in a simple and concise Mannering\\xa0investment products',\n 'title': 'Financial advisor/ Insurance Agent',\n 'skills': 'Self Motivation, Positive Attitude, Attention To Detail, Self Discipline, Trustworthy, Communication, Finance, Extroverted, Social Skills, Active Listening',\n 'country': 'US',\n 'raw_description': '\\n\\n<strong>Job Description</strong>\\n<p style=\"color: #201f1e; font-family: Calibri, Helvetica, sans-serif, serif, EmojiFont; font-size: 15px; text-align: justify;\"><span style=\"margin: 0px; padding: 0px; border: 0px; font-style: inherit; font-variant: inherit; font-weight: inherit; font-stretch: inherit; font-size: 10pt; line-height: inherit; font-family: inherit; vertical-align: baseline; color: #000000;\"> New York Life and its affiliates are dedicated to prudent financial management, high-quality products, and impeccable service. Our financial professionals help clients develop a long-term financial strategy to achieve their financial goals using a comprehensive array of financial products and services, including life insurance, investments, annuities, and mutual funds. </span></p>\\n<p style=\"color: #201f1e; font-family: Calibri, Helvetica, sans-serif, serif, EmojiFont; font-size: 15px; text-align: justify;\"><span style=\"margin: 0px; padding: 0px; border: 0px; font-style: inherit; font-variant: inherit; font-weight: inherit; font-stretch: inherit; font-size: 10pt; line-height: inherit; font-family: inherit; vertical-align: baseline; color: #000000;\"> As a financial professional with New York Life, you will be able to build your practice and help those in your community plan for their financial futures. We’re looking for people who possess the following characteristics: </span></p>\\n<ul>\\n<li style=\"color: #201f1e; font-family: Calibri, Helvetica, sans-serif, serif, EmojiFont; font-size: 15px; text-align: justify;\"><span style=\"color: #000000; font-family: inherit; font-size: 10pt; font-style: inherit; font-variant-ligatures: inherit; font-variant-caps: inherit; font-weight: inherit; text-indent: -18pt;\"> Highly self-motivated and self-disciplined with the ability to work effectively and independently </span></li>\\n<li style=\"color: #201f1e; font-family: Calibri, Helvetica, sans-serif, serif, EmojiFont; font-size: 15px; text-align: justify;\"><span style=\"font-size: 10pt;\"> Outgoing personality with the ability to develop relationships (i.e., “People Person\") and a sincere desire to help others </span></li>\\n<li style=\"color: #201f1e; font-family: Calibri, Helvetica, sans-serif, serif, EmojiFont; font-size: 15px; text-align: justify;\"><span style=\"font-size: 10pt;\"> Fearless, positive attitude and willingness to be accountable for results </span></li>\\n<li style=\"color: #201f1e; font-family: Calibri, Helvetica, sans-serif, serif, EmojiFont; font-size: 15px; text-align: justify;\"><span style=\"font-size: 10pt;\"> Organized, detail-oriented and excellent time-management skills </span></li>\\n<li style=\"color: #201f1e; font-family: Calibri, Helvetica, sans-serif, serif, EmojiFont; font-size: 15px; text-align: justify;\"><span style=\"font-size: 10pt;\"> Desire for continuous learning </span></li>\\n<li style=\"color: #201f1e; font-family: Calibri, Helvetica, sans-serif, serif, EmojiFont; font-size: 15px; text-align: justify;\"><span style=\"font-size: 10pt;\"> Good communicator—excellent listening skills and ability to explain complex information in a simple and concise manner </span></li>\\n</ul>\\n\\n<strong>Job Requirements</strong>\\n<p class=\"x_x_MsoNormal\" style=\"margin-bottom: 10px; color: #343434; font-family: Arial, Helvetica, sans-serif, serif, EmojiFont; font-size: 16px; box-sizing: border-box;\"><span style=\"margin: 0px; padding: 0px; border: 0px; font-style: inherit; font-variant: inherit; font-weight: inherit; font-stretch: inherit; font-size: 10pt; line-height: normal; font-family: Calibri, Helvetica, sans-serif, serif, EmojiFont; vertical-align: baseline; color: #000000;\">As a financial professional with New York Life, you will be able to build your practice and help those in your community plan for their financial futures.\\xa0\\xa0We’re looking for people who possess the following characteristics:</span></p>\\n<p class=\"x_x_MsoNormal\" style=\"margin: 0in 0in 0.0001pt 0.25in; color: #343434; font-family: Arial, Helvetica, sans-serif, serif, EmojiFont; font-size: 16px; box-sizing: border-box; text-indent: -0.25in;\"><span style=\"margin: 0px; padding: 0px; border: 0px; font-style: inherit; font-variant: inherit; font-weight: inherit; font-stretch: inherit; font-size: 10pt; line-height: normal; font-family: Calibri, Helvetica, sans-serif, serif, EmojiFont; vertical-align: baseline; color: #000000; box-sizing: border-box;\">·</span><span style=\"margin: 0px; padding: 0px; border: 0px; font-style: inherit; font-variant: inherit; font-weight: inherit; font-stretch: inherit; font-size: 11pt; line-height: inherit; font-family: Symbol, serif, EmojiFont; vertical-align: baseline; color: inherit; box-sizing: border-box;\"><span style=\"margin: 0px; padding: 0px; border: 0px; font-variant-numeric: normal; font-variant-east-asian: normal; font-stretch: normal; font-size: 10pt; line-height: normal; font-family: Calibri, Helvetica, sans-serif, serif, EmojiFont; vertical-align: baseline; color: #000000; box-sizing: border-box;\">\\xa0\\xa0\\xa0\\xa0\\xa0\\xa0\\xa0\\xa0</span></span><span style=\"margin: 0px; padding: 0px; border: 0px; font-style: inherit; font-variant: inherit; font-weight: inherit; font-stretch: inherit; font-size: 10pt; line-height: normal; font-family: Calibri, Helvetica, sans-serif, serif, EmojiFont; vertical-align: baseline; color: #000000;\">Highly self-motivated and self-disciplined with the ability to work effectively and independently</span></p>\\n<p class=\"x_x_MsoNormal\" style=\"margin: 0in 0in 0.0001pt 0.25in; color: #343434; font-family: Arial, Helvetica, sans-serif, serif, EmojiFont; font-size: 16px; box-sizing: border-box; text-indent: -0.25in;\"><span style=\"margin: 0px; padding: 0px; border: 0px; font-style: inherit; font-variant: inherit; font-weight: inherit; font-stretch: inherit; font-size: 10pt; line-height: normal; font-family: Calibri, Helvetica, sans-serif, serif, EmojiFont; vertical-align: baseline; color: #000000; box-sizing: border-box;\">·</span><span style=\"margin: 0px; padding: 0px; border: 0px; font-style: inherit; font-variant: inherit; font-weight: inherit; font-stretch: inherit; font-size: 11pt; line-height: inherit; font-family: Symbol, serif, EmojiFont; vertical-align: baseline; color: inherit; box-sizing: border-box;\"><span style=\"margin: 0px; padding: 0px; border: 0px; font-variant-numeric: normal; font-variant-east-asian: normal; font-stretch: normal; font-size: 10pt; line-height: normal; font-family: Calibri, Helvetica, sans-serif, serif, EmojiFont; vertical-align: baseline; color: #000000; box-sizing: border-box;\">\\xa0\\xa0\\xa0\\xa0\\xa0\\xa0\\xa0\\xa0</span></span><span style=\"margin: 0px; padding: 0px; border: 0px; font-style: inherit; font-variant: inherit; font-weight: inherit; font-stretch: inherit; font-size: 10pt; line-height: normal; font-family: Calibri, Helvetica, sans-serif, serif, EmojiFont; vertical-align: baseline; color: #000000;\">Outgoing personality with the ability to develop relationships (i.e., “People Person\") and a sincere desire to help others</span></p>\\n<p class=\"x_x_MsoNormal\" style=\"margin: 0in 0in 0.0001pt 0.25in; color: #343434; font-family: Arial, Helvetica, sans-serif, serif, EmojiFont; font-size: 16px; box-sizing: border-box; text-indent: -0.25in;\"><span style=\"margin: 0px; padding: 0px; border: 0px; font-style: inherit; font-variant: inherit; font-weight: inherit; font-stretch: inherit; font-size: 10pt; line-height: normal; font-family: Calibri, Helvetica, sans-serif, serif, EmojiFont; vertical-align: baseline; color: #000000; box-sizing: border-box;\">·</span><span style=\"margin: 0px; padding: 0px; border: 0px; font-style: inherit; font-variant: inherit; font-weight: inherit; font-stretch: inherit; font-size: 11pt; line-height: inherit; font-family: Symbol, serif, EmojiFont; vertical-align: baseline; color: inherit; box-sizing: border-box;\"><span style=\"margin: 0px; padding: 0px; border: 0px; font-variant-numeric: normal; font-variant-east-asian: normal; font-stretch: normal; font-size: 10pt; line-height: normal; font-family: Calibri, Helvetica, sans-serif, serif, EmojiFont; vertical-align: baseline; color: #000000; box-sizing: border-box;\">\\xa0\\xa0\\xa0\\xa0\\xa0\\xa0\\xa0\\xa0</span></span><span style=\"margin: 0px; padding: 0px; border: 0px; font-style: inherit; font-variant: inherit; font-weight: inherit; font-stretch: inherit; font-size: 10pt; line-height: normal; font-family: Calibri, Helvetica, sans-serif, serif, EmojiFont; vertical-align: baseline; color: #000000;\">Fearless, positive attitude and willingness to be accountable for results</span></p>\\n<p class=\"x_x_MsoNormal\" style=\"margin: 0in 0in 0.0001pt 0.25in; color: #343434; font-family: Arial, Helvetica, sans-serif, serif, EmojiFont; font-size: 16px; box-sizing: border-box; text-indent: -0.25in;\"><span style=\"margin: 0px; padding: 0px; border: 0px; font-style: inherit; font-variant: inherit; font-weight: inherit; font-stretch: inherit; font-size: 10pt; line-height: normal; font-family: Calibri, Helvetica, sans-serif, serif, EmojiFont; vertical-align: baseline; color: #000000; box-sizing: border-box;\">·</span><span style=\"margin: 0px; padding: 0px; border: 0px; font-style: inherit; font-variant: inherit; font-weight: inherit; font-stretch: inherit; font-size: 11pt; line-height: inherit; font-family: Symbol, serif, EmojiFont; vertical-align: baseline; color: inherit; box-sizing: border-box;\"><span style=\"margin: 0px; padding: 0px; border: 0px; font-variant-numeric: normal; font-variant-east-asian: normal; font-stretch: normal; font-size: 10pt; line-height: normal; font-family: Calibri, Helvetica, sans-serif, serif, EmojiFont; vertical-align: baseline; color: #000000; box-sizing: border-box;\">\\xa0\\xa0\\xa0\\xa0\\xa0\\xa0\\xa0\\xa0</span></span><span style=\"margin: 0px; padding: 0px; border: 0px; font-style: inherit; font-variant: inherit; font-weight: inherit; font-stretch: inherit; font-size: 10pt; line-height: normal; font-family: Calibri, Helvetica, sans-serif, serif, EmojiFont; vertical-align: baseline; color: #000000;\">Organized, detail-oriented and excellent time-management skills</span></p>\\n<p class=\"x_x_MsoNormal\" style=\"margin: 0in 0in 0.0001pt 0.25in; color: #343434; font-family: Arial, Helvetica, sans-serif, serif, EmojiFont; font-size: 16px; box-sizing: border-box; text-indent: -0.25in;\"><span style=\"margin: 0px; padding: 0px; border: 0px; font-style: inherit; font-variant: inherit; font-weight: inherit; font-stretch: inherit; font-size: 10pt; line-height: normal; font-family: Calibri, Helvetica, sans-serif, serif, EmojiFont; vertical-align: baseline; color: #000000; box-sizing: border-box;\">·</span><span style=\"margin: 0px; padding: 0px; border: 0px; font-style: inherit; font-variant: inherit; font-weight: inherit; font-stretch: inherit; font-size: 11pt; line-height: inherit; font-family: Symbol, serif, EmojiFont; vertical-align: baseline; color: inherit; box-sizing: border-box;\"><span style=\"margin: 0px; padding: 0px; border: 0px; font-variant-numeric: normal; font-variant-east-asian: normal; font-stretch: normal; font-size: 10pt; line-height: normal; font-family: Calibri, Helvetica, sans-serif, serif, EmojiFont; vertical-align: baseline; color: #000000; box-sizing: border-box;\">\\xa0\\xa0\\xa0\\xa0\\xa0\\xa0\\xa0\\xa0</span></span><span style=\"margin: 0px; padding: 0px; border: 0px; font-style: inherit; font-variant: inherit; font-weight: inherit; font-stretch: inherit; font-size: 10pt; line-height: normal; font-family: Calibri, Helvetica, sans-serif, serif, EmojiFont; vertical-align: baseline; color: #000000;\">Desire for continuous learning</span></p>\\n<p class=\"x_x_MsoNormal\" style=\"margin: 0in 0in 0.0001pt 0.25in; color: #343434; font-family: Arial, Helvetica, sans-serif, serif, EmojiFont; font-size: 16px; box-sizing: border-box; text-indent: -0.25in;\"><span style=\"margin: 0px; padding: 0px; border: 0px; font-style: inherit; font-variant: inherit; font-weight: inherit; font-stretch: inherit; font-size: 10pt; line-height: normal; font-family: Calibri, Helvetica, sans-serif, serif, EmojiFont; vertical-align: baseline; color: #000000; box-sizing: border-box;\">·</span><span style=\"margin: 0px; padding: 0px; border: 0px; font-style: inherit; font-variant: inherit; font-weight: inherit; font-stretch: inherit; font-size: 11pt; line-height: inherit; font-family: Symbol, serif, EmojiFont; vertical-align: baseline; color: inherit; box-sizing: border-box;\"><span style=\"margin: 0px; padding: 0px; border: 0px; font-variant-numeric: normal; font-variant-east-asian: normal; font-stretch: normal; font-size: 10pt; line-height: normal; font-family: Calibri, Helvetica, sans-serif, serif, EmojiFont; vertical-align: baseline; color: #000000; box-sizing: border-box;\">\\xa0\\xa0\\xa0\\xa0\\xa0\\xa0\\xa0\\xa0</span></span><span style=\"margin: 0px; padding: 0px; border: 0px; font-style: inherit; font-variant: inherit; font-weight: inherit; font-stretch: inherit; font-size: 10pt; line-height: normal; font-family: Calibri, Helvetica, sans-serif, serif, EmojiFont; vertical-align: baseline; color: #000000;\">Good communicator—excellent listening skills and ability to explain complex information in a simple and concise Mannering</span><span style=\"margin: 0px; padding: 0px; border: 0px; font-style: inherit; font-variant: inherit; font-weight: inherit; font-stretch: inherit; font-size: 10pt; line-height: normal; font-family: Calibri, Helvetica, sans-serif, serif, EmojiFont; vertical-align: baseline; color: #000000; text-indent: 0px;\">\\xa0investment products</span></p>',\n 'locality': 'Pittsburgh',\n 'posted_at': '2021-04-12T10:24:54Z',\n 'longitude': '-79.98361000',\n 'postalCode': '15219',\n 'url': 'https://www.careerbuilder.com/job/JCM61N764KY07MLL44F',\n 'experience': '',\n 'address': '',\n 'latitude': '40.44037000',\n '_id': '8b6b33e1-8dfc-5274-b3e6-cda37f549fdc',\n 'company': 'New York Life',\n 'region': 'PA',\n 'employment_type': 'FULL_TIME'}"
     },
     "execution_count": 3,
     "metadata": {},
     "output_type": "execute_result"
    }
   ],
   "source": [
    "dataset = 'career_builder_jobs_10501.json'\n",
    "data = json.load(open(dataset))\n",
    "\n",
    "len(data)  # 10,501 records\n",
    "\n",
    "# What are the features?\n",
    "print(data[0].keys())\n",
    "\n",
    "# Look at a single record\n",
    "data[10]"
   ]
  },
  {
   "cell_type": "code",
   "execution_count": 4,
   "metadata": {
    "scrolled": true
   },
   "outputs": [
    {
     "data": {
      "text/plain": "                                    _id                   address  \\\n0  2b387592-8148-5720-a661-a2730061d14c      550 East Main Street   \n1  cfc728ee-e7f8-5538-b1ee-0f6a2d12e1d1                             \n2  8dcd846b-db99-547f-836c-bcda497cff0d                             \n3  e7fc9e40-ac86-5cf2-ba8f-3c1ef9e21982  3001 South Kansas Avenue   \n4  0d4d608a-17c0-5e6b-827e-88ad505cad09   1814 Atrium Place Drive   \n\n                               company country  \\\n0  Action for a Better Community, Inc.      US   \n1                           Magic Ears      US   \n2                          ExecuSource      US   \n3                Briggs Dodge Ram Fiat      US   \n4   Regency Integrated Health Services      US   \n\n                                         description          education  \\\n0  Job Description\\nTo implement the Head Start P...  Bachelor's Degree   \n1  Job Description\\nYou have the magic. We have t...    Graduate Degree   \n2  Job Description\\nWe are looking for a CRM deve...  Bachelor's Degree   \n3  Job Description\\n\\nBriggs Dodge Ram Fiat is lo...        High School   \n4  Job Description\\n HARLINGEN, TX- RIO GRANDE VA...      4 Year Degree   \n\n  employment_type                    experience   locality     longitude  \\\n0       FULL_TIME      1 to 2 years experience.  Rochester  -77.59785000   \n1       PART_TIME       No experience required.    Atlanta  -84.38799000   \n2       FULL_TIME  At least 5 years experience.     Duluth  -84.17516000   \n3       FULL_TIME       No experience required.     Topeka  -95.68294000   \n4       FULL_TIME  At least 3 years experience.  Harlingen  -97.65767000   \n\n  postalCode             posted_at  \\\n0      14604     2021-04-21T20:20Z   \n1             2021-04-16T04:49:23Z   \n2      30097  2021-04-29T13:59:47Z   \n3      66611  2021-04-19T01:05:50Z   \n4      78550  2021-04-13T14:38:05Z   \n\n                                     raw_description region  \\\n0  \\n\\n<strong>Job Description</strong>\\n<span>To...     NY   \n1  \\n\\n<strong>Job Description</strong>\\n<p style...     GA   \n2  \\n\\n<strong>Job Description</strong>\\n<p class...     GA   \n3  \\n\\n<strong>Job Description</strong>\\n<p style...     KS   \n4  \\n\\n<strong>Job Description</strong>\\n<p style...     TX   \n\n                             salary  \\\n0            $17.23 - $22.00 / hour   \n1            $19.00 - $26.00 / hour   \n2  $106,250.00 - $125,000.00 / year   \n3                                     \n4   $85,000.00 - $120,000.00 / year   \n\n                                              skills  \\\n0                                 Emergency Handling   \n1  Vocabularies, Grammars, Teaching, Lesson Plann...   \n2  PHP (Scripting Language), Debugging, Web Servi...   \n3  Driving, Service Delivery, Customer Service, A...   \n4  Emergency Handling, Training, Accounting, Heal...   \n\n                                   title  \\\n0                     Head Start Teacher   \n1  Teacher of English for Online Groups!   \n2                    CRM / PHP Developer   \n3    Automotive Service Advisor / Driver   \n4    Licensed Nursing Home Administrator   \n\n                                                 url  \n0  https://www.careerbuilder.com/job/J8S02F6YRMG5...  \n1  https://www.careerbuilder.com/job/JCL1H264YM6F...  \n2  https://www.careerbuilder.com/job/JCM4J76JP92B...  \n3  https://www.careerbuilder.com/job/JCH4GH71PST9...  \n4  https://www.careerbuilder.com/job/JCM2C66SCC02...  ",
      "text/html": "<div>\n<style scoped>\n    .dataframe tbody tr th:only-of-type {\n        vertical-align: middle;\n    }\n\n    .dataframe tbody tr th {\n        vertical-align: top;\n    }\n\n    .dataframe thead th {\n        text-align: right;\n    }\n</style>\n<table border=\"1\" class=\"dataframe\">\n  <thead>\n    <tr style=\"text-align: right;\">\n      <th></th>\n      <th>_id</th>\n      <th>address</th>\n      <th>company</th>\n      <th>country</th>\n      <th>description</th>\n      <th>education</th>\n      <th>employment_type</th>\n      <th>experience</th>\n      <th>locality</th>\n      <th>longitude</th>\n      <th>postalCode</th>\n      <th>posted_at</th>\n      <th>raw_description</th>\n      <th>region</th>\n      <th>salary</th>\n      <th>skills</th>\n      <th>title</th>\n      <th>url</th>\n    </tr>\n  </thead>\n  <tbody>\n    <tr>\n      <th>0</th>\n      <td>2b387592-8148-5720-a661-a2730061d14c</td>\n      <td>550 East Main Street</td>\n      <td>Action for a Better Community, Inc.</td>\n      <td>US</td>\n      <td>Job Description\\nTo implement the Head Start P...</td>\n      <td>Bachelor's Degree</td>\n      <td>FULL_TIME</td>\n      <td>1 to 2 years experience.</td>\n      <td>Rochester</td>\n      <td>-77.59785000</td>\n      <td>14604</td>\n      <td>2021-04-21T20:20Z</td>\n      <td>\\n\\n&lt;strong&gt;Job Description&lt;/strong&gt;\\n&lt;span&gt;To...</td>\n      <td>NY</td>\n      <td>$17.23 - $22.00 / hour</td>\n      <td>Emergency Handling</td>\n      <td>Head Start Teacher</td>\n      <td>https://www.careerbuilder.com/job/J8S02F6YRMG5...</td>\n    </tr>\n    <tr>\n      <th>1</th>\n      <td>cfc728ee-e7f8-5538-b1ee-0f6a2d12e1d1</td>\n      <td></td>\n      <td>Magic Ears</td>\n      <td>US</td>\n      <td>Job Description\\nYou have the magic. We have t...</td>\n      <td>Graduate Degree</td>\n      <td>PART_TIME</td>\n      <td>No experience required.</td>\n      <td>Atlanta</td>\n      <td>-84.38799000</td>\n      <td></td>\n      <td>2021-04-16T04:49:23Z</td>\n      <td>\\n\\n&lt;strong&gt;Job Description&lt;/strong&gt;\\n&lt;p style...</td>\n      <td>GA</td>\n      <td>$19.00 - $26.00 / hour</td>\n      <td>Vocabularies, Grammars, Teaching, Lesson Plann...</td>\n      <td>Teacher of English for Online Groups!</td>\n      <td>https://www.careerbuilder.com/job/JCL1H264YM6F...</td>\n    </tr>\n    <tr>\n      <th>2</th>\n      <td>8dcd846b-db99-547f-836c-bcda497cff0d</td>\n      <td></td>\n      <td>ExecuSource</td>\n      <td>US</td>\n      <td>Job Description\\nWe are looking for a CRM deve...</td>\n      <td>Bachelor's Degree</td>\n      <td>FULL_TIME</td>\n      <td>At least 5 years experience.</td>\n      <td>Duluth</td>\n      <td>-84.17516000</td>\n      <td>30097</td>\n      <td>2021-04-29T13:59:47Z</td>\n      <td>\\n\\n&lt;strong&gt;Job Description&lt;/strong&gt;\\n&lt;p class...</td>\n      <td>GA</td>\n      <td>$106,250.00 - $125,000.00 / year</td>\n      <td>PHP (Scripting Language), Debugging, Web Servi...</td>\n      <td>CRM / PHP Developer</td>\n      <td>https://www.careerbuilder.com/job/JCM4J76JP92B...</td>\n    </tr>\n    <tr>\n      <th>3</th>\n      <td>e7fc9e40-ac86-5cf2-ba8f-3c1ef9e21982</td>\n      <td>3001 South Kansas Avenue</td>\n      <td>Briggs Dodge Ram Fiat</td>\n      <td>US</td>\n      <td>Job Description\\n\\nBriggs Dodge Ram Fiat is lo...</td>\n      <td>High School</td>\n      <td>FULL_TIME</td>\n      <td>No experience required.</td>\n      <td>Topeka</td>\n      <td>-95.68294000</td>\n      <td>66611</td>\n      <td>2021-04-19T01:05:50Z</td>\n      <td>\\n\\n&lt;strong&gt;Job Description&lt;/strong&gt;\\n&lt;p style...</td>\n      <td>KS</td>\n      <td></td>\n      <td>Driving, Service Delivery, Customer Service, A...</td>\n      <td>Automotive Service Advisor / Driver</td>\n      <td>https://www.careerbuilder.com/job/JCH4GH71PST9...</td>\n    </tr>\n    <tr>\n      <th>4</th>\n      <td>0d4d608a-17c0-5e6b-827e-88ad505cad09</td>\n      <td>1814 Atrium Place Drive</td>\n      <td>Regency Integrated Health Services</td>\n      <td>US</td>\n      <td>Job Description\\n HARLINGEN, TX- RIO GRANDE VA...</td>\n      <td>4 Year Degree</td>\n      <td>FULL_TIME</td>\n      <td>At least 3 years experience.</td>\n      <td>Harlingen</td>\n      <td>-97.65767000</td>\n      <td>78550</td>\n      <td>2021-04-13T14:38:05Z</td>\n      <td>\\n\\n&lt;strong&gt;Job Description&lt;/strong&gt;\\n&lt;p style...</td>\n      <td>TX</td>\n      <td>$85,000.00 - $120,000.00 / year</td>\n      <td>Emergency Handling, Training, Accounting, Heal...</td>\n      <td>Licensed Nursing Home Administrator</td>\n      <td>https://www.careerbuilder.com/job/JCM2C66SCC02...</td>\n    </tr>\n  </tbody>\n</table>\n</div>"
     },
     "execution_count": 4,
     "metadata": {},
     "output_type": "execute_result"
    }
   ],
   "source": [
    "df = pd.DataFrame.from_records(data)\n",
    "\n",
    "# keep only needed fields\n",
    "df = df[['_id', 'address', 'company', 'country', 'description',\n",
    "       'education', 'employment_type', 'experience', \n",
    "       'locality', 'longitude', 'postalCode', 'posted_at', 'raw_description',\n",
    "       'region', 'salary', 'skills', 'title', 'url']]\n",
    "df.head()"
   ]
  },
  {
   "cell_type": "markdown",
   "metadata": {},
   "source": [
    "### Add all-text feature for tf-idf matrix"
   ]
  },
  {
   "cell_type": "code",
   "execution_count": 5,
   "metadata": {},
   "outputs": [
    {
     "data": {
      "text/plain": "                                    _id                   address  \\\n0  2b387592-8148-5720-a661-a2730061d14c      550 East Main Street   \n1  cfc728ee-e7f8-5538-b1ee-0f6a2d12e1d1                             \n2  8dcd846b-db99-547f-836c-bcda497cff0d                             \n3  e7fc9e40-ac86-5cf2-ba8f-3c1ef9e21982  3001 South Kansas Avenue   \n4  0d4d608a-17c0-5e6b-827e-88ad505cad09   1814 Atrium Place Drive   \n\n                               company country  \\\n0  Action for a Better Community, Inc.      US   \n1                           Magic Ears      US   \n2                          ExecuSource      US   \n3                Briggs Dodge Ram Fiat      US   \n4   Regency Integrated Health Services      US   \n\n                                         description          education  \\\n0  Job Description\\nTo implement the Head Start P...  Bachelor's Degree   \n1  Job Description\\nYou have the magic. We have t...    Graduate Degree   \n2  Job Description\\nWe are looking for a CRM deve...  Bachelor's Degree   \n3  Job Description\\n\\nBriggs Dodge Ram Fiat is lo...        High School   \n4  Job Description\\n HARLINGEN, TX- RIO GRANDE VA...      4 Year Degree   \n\n  employment_type                    experience   locality     longitude  \\\n0       FULL_TIME      1 to 2 years experience.  Rochester  -77.59785000   \n1       PART_TIME       No experience required.    Atlanta  -84.38799000   \n2       FULL_TIME  At least 5 years experience.     Duluth  -84.17516000   \n3       FULL_TIME       No experience required.     Topeka  -95.68294000   \n4       FULL_TIME  At least 3 years experience.  Harlingen  -97.65767000   \n\n  postalCode             posted_at  \\\n0      14604     2021-04-21T20:20Z   \n1             2021-04-16T04:49:23Z   \n2      30097  2021-04-29T13:59:47Z   \n3      66611  2021-04-19T01:05:50Z   \n4      78550  2021-04-13T14:38:05Z   \n\n                                     raw_description region  \\\n0  \\n\\n<strong>Job Description</strong>\\n<span>To...     NY   \n1  \\n\\n<strong>Job Description</strong>\\n<p style...     GA   \n2  \\n\\n<strong>Job Description</strong>\\n<p class...     GA   \n3  \\n\\n<strong>Job Description</strong>\\n<p style...     KS   \n4  \\n\\n<strong>Job Description</strong>\\n<p style...     TX   \n\n                             salary  \\\n0            $17.23 - $22.00 / hour   \n1            $19.00 - $26.00 / hour   \n2  $106,250.00 - $125,000.00 / year   \n3                                     \n4   $85,000.00 - $120,000.00 / year   \n\n                                              skills  \\\n0                                 Emergency Handling   \n1  Vocabularies, Grammars, Teaching, Lesson Plann...   \n2  PHP (Scripting Language), Debugging, Web Servi...   \n3  Driving, Service Delivery, Customer Service, A...   \n4  Emergency Handling, Training, Accounting, Heal...   \n\n                                   title  \\\n0                     Head Start Teacher   \n1  Teacher of English for Online Groups!   \n2                    CRM / PHP Developer   \n3    Automotive Service Advisor / Driver   \n4    Licensed Nursing Home Administrator   \n\n                                                 url  \\\n0  https://www.careerbuilder.com/job/J8S02F6YRMG5...   \n1  https://www.careerbuilder.com/job/JCL1H264YM6F...   \n2  https://www.careerbuilder.com/job/JCM4J76JP92B...   \n3  https://www.careerbuilder.com/job/JCH4GH71PST9...   \n4  https://www.careerbuilder.com/job/JCM2C66SCC02...   \n\n                                            all_text  \n0  Job Description\\nTo implement the Head Start P...  \n1  Job Description\\nYou have the magic. We have t...  \n2  Job Description\\nWe are looking for a CRM deve...  \n3  Job Description\\n\\nBriggs Dodge Ram Fiat is lo...  \n4  Job Description\\n HARLINGEN, TX- RIO GRANDE VA...  ",
      "text/html": "<div>\n<style scoped>\n    .dataframe tbody tr th:only-of-type {\n        vertical-align: middle;\n    }\n\n    .dataframe tbody tr th {\n        vertical-align: top;\n    }\n\n    .dataframe thead th {\n        text-align: right;\n    }\n</style>\n<table border=\"1\" class=\"dataframe\">\n  <thead>\n    <tr style=\"text-align: right;\">\n      <th></th>\n      <th>_id</th>\n      <th>address</th>\n      <th>company</th>\n      <th>country</th>\n      <th>description</th>\n      <th>education</th>\n      <th>employment_type</th>\n      <th>experience</th>\n      <th>locality</th>\n      <th>longitude</th>\n      <th>postalCode</th>\n      <th>posted_at</th>\n      <th>raw_description</th>\n      <th>region</th>\n      <th>salary</th>\n      <th>skills</th>\n      <th>title</th>\n      <th>url</th>\n      <th>all_text</th>\n    </tr>\n  </thead>\n  <tbody>\n    <tr>\n      <th>0</th>\n      <td>2b387592-8148-5720-a661-a2730061d14c</td>\n      <td>550 East Main Street</td>\n      <td>Action for a Better Community, Inc.</td>\n      <td>US</td>\n      <td>Job Description\\nTo implement the Head Start P...</td>\n      <td>Bachelor's Degree</td>\n      <td>FULL_TIME</td>\n      <td>1 to 2 years experience.</td>\n      <td>Rochester</td>\n      <td>-77.59785000</td>\n      <td>14604</td>\n      <td>2021-04-21T20:20Z</td>\n      <td>\\n\\n&lt;strong&gt;Job Description&lt;/strong&gt;\\n&lt;span&gt;To...</td>\n      <td>NY</td>\n      <td>$17.23 - $22.00 / hour</td>\n      <td>Emergency Handling</td>\n      <td>Head Start Teacher</td>\n      <td>https://www.careerbuilder.com/job/J8S02F6YRMG5...</td>\n      <td>Job Description\\nTo implement the Head Start P...</td>\n    </tr>\n    <tr>\n      <th>1</th>\n      <td>cfc728ee-e7f8-5538-b1ee-0f6a2d12e1d1</td>\n      <td></td>\n      <td>Magic Ears</td>\n      <td>US</td>\n      <td>Job Description\\nYou have the magic. We have t...</td>\n      <td>Graduate Degree</td>\n      <td>PART_TIME</td>\n      <td>No experience required.</td>\n      <td>Atlanta</td>\n      <td>-84.38799000</td>\n      <td></td>\n      <td>2021-04-16T04:49:23Z</td>\n      <td>\\n\\n&lt;strong&gt;Job Description&lt;/strong&gt;\\n&lt;p style...</td>\n      <td>GA</td>\n      <td>$19.00 - $26.00 / hour</td>\n      <td>Vocabularies, Grammars, Teaching, Lesson Plann...</td>\n      <td>Teacher of English for Online Groups!</td>\n      <td>https://www.careerbuilder.com/job/JCL1H264YM6F...</td>\n      <td>Job Description\\nYou have the magic. We have t...</td>\n    </tr>\n    <tr>\n      <th>2</th>\n      <td>8dcd846b-db99-547f-836c-bcda497cff0d</td>\n      <td></td>\n      <td>ExecuSource</td>\n      <td>US</td>\n      <td>Job Description\\nWe are looking for a CRM deve...</td>\n      <td>Bachelor's Degree</td>\n      <td>FULL_TIME</td>\n      <td>At least 5 years experience.</td>\n      <td>Duluth</td>\n      <td>-84.17516000</td>\n      <td>30097</td>\n      <td>2021-04-29T13:59:47Z</td>\n      <td>\\n\\n&lt;strong&gt;Job Description&lt;/strong&gt;\\n&lt;p class...</td>\n      <td>GA</td>\n      <td>$106,250.00 - $125,000.00 / year</td>\n      <td>PHP (Scripting Language), Debugging, Web Servi...</td>\n      <td>CRM / PHP Developer</td>\n      <td>https://www.careerbuilder.com/job/JCM4J76JP92B...</td>\n      <td>Job Description\\nWe are looking for a CRM deve...</td>\n    </tr>\n    <tr>\n      <th>3</th>\n      <td>e7fc9e40-ac86-5cf2-ba8f-3c1ef9e21982</td>\n      <td>3001 South Kansas Avenue</td>\n      <td>Briggs Dodge Ram Fiat</td>\n      <td>US</td>\n      <td>Job Description\\n\\nBriggs Dodge Ram Fiat is lo...</td>\n      <td>High School</td>\n      <td>FULL_TIME</td>\n      <td>No experience required.</td>\n      <td>Topeka</td>\n      <td>-95.68294000</td>\n      <td>66611</td>\n      <td>2021-04-19T01:05:50Z</td>\n      <td>\\n\\n&lt;strong&gt;Job Description&lt;/strong&gt;\\n&lt;p style...</td>\n      <td>KS</td>\n      <td></td>\n      <td>Driving, Service Delivery, Customer Service, A...</td>\n      <td>Automotive Service Advisor / Driver</td>\n      <td>https://www.careerbuilder.com/job/JCH4GH71PST9...</td>\n      <td>Job Description\\n\\nBriggs Dodge Ram Fiat is lo...</td>\n    </tr>\n    <tr>\n      <th>4</th>\n      <td>0d4d608a-17c0-5e6b-827e-88ad505cad09</td>\n      <td>1814 Atrium Place Drive</td>\n      <td>Regency Integrated Health Services</td>\n      <td>US</td>\n      <td>Job Description\\n HARLINGEN, TX- RIO GRANDE VA...</td>\n      <td>4 Year Degree</td>\n      <td>FULL_TIME</td>\n      <td>At least 3 years experience.</td>\n      <td>Harlingen</td>\n      <td>-97.65767000</td>\n      <td>78550</td>\n      <td>2021-04-13T14:38:05Z</td>\n      <td>\\n\\n&lt;strong&gt;Job Description&lt;/strong&gt;\\n&lt;p style...</td>\n      <td>TX</td>\n      <td>$85,000.00 - $120,000.00 / year</td>\n      <td>Emergency Handling, Training, Accounting, Heal...</td>\n      <td>Licensed Nursing Home Administrator</td>\n      <td>https://www.careerbuilder.com/job/JCM2C66SCC02...</td>\n      <td>Job Description\\n HARLINGEN, TX- RIO GRANDE VA...</td>\n    </tr>\n  </tbody>\n</table>\n</div>"
     },
     "execution_count": 5,
     "metadata": {},
     "output_type": "execute_result"
    }
   ],
   "source": [
    "df['all_text'] = df['description'] + ' ' + df['skills'] + ' ' + df['title']\n",
    "df.head()"
   ]
  },
  {
   "cell_type": "markdown",
   "metadata": {},
   "source": [
    "### Clean up all_text"
   ]
  },
  {
   "cell_type": "code",
   "execution_count": null,
   "metadata": {
    "scrolled": true,
    "pycharm": {
     "is_executing": true
    }
   },
   "outputs": [],
   "source": [
    "%%time\n",
    "def cleanup_text(text):\n",
    "    # numbers, chars, etc.\n",
    "    text = text.replace('_', ' ')\n",
    "    text = text.replace('\\r', ' ')\n",
    "    text = text.replace('\\n', ' ')\n",
    "    text = text.replace('*', ' ')\n",
    "    # digits, punctuation\n",
    "    #text = text.replace('\\d+', ' ')\n",
    "    text = re.sub('\\d+', ' ', text)\n",
    "    #text = text.replace(r'[^\\w\\s]+', ' ')\n",
    "    # reduce extra spaces\n",
    "    text = re.sub(' +', ' ', text)\n",
    "    # get tokens, pos, etc.\n",
    "    text = nlp(text)\n",
    "    #lemmatize and remove punctuation, stopwords, etc.\n",
    "    text = ' '.join([token.lemma_.lower() for token in text if not (token.is_stop) and not (token.is_punct)])\n",
    "    \n",
    "    return text\n",
    "\n",
    "df['lemma_lower_text'] = df['all_text'].apply(cleanup_text)"
   ]
  },
  {
   "cell_type": "markdown",
   "metadata": {},
   "source": [
    "### Save our work"
   ]
  },
  {
   "cell_type": "code",
   "execution_count": null,
   "metadata": {
    "pycharm": {
     "is_executing": true
    }
   },
   "outputs": [],
   "source": [
    "outfile = 'nlp/lemmatized_df.csv'\n",
    "#df.to_csv(outfile, encoding='utf-8')\n",
    "print(f'wrote {outfile}')"
   ]
  },
  {
   "cell_type": "markdown",
   "metadata": {},
   "source": [
    "### Inspect Lemmatized dataset\n",
    "\n",
    "- 10,501 job listing records\n",
    "- nlp/lemmatized_df.csv"
   ]
  },
  {
   "cell_type": "code",
   "execution_count": null,
   "metadata": {
    "pycharm": {
     "is_executing": true
    }
   },
   "outputs": [],
   "source": [
    "%%time\n",
    "#lemmatized_csv = 'nlp/lemmatized_df.csv'\n",
    "#df = pd.read_csv(lemmatized_csv)\n",
    "print(df.shape)\n",
    "df.head()"
   ]
  },
  {
   "cell_type": "code",
   "execution_count": null,
   "metadata": {
    "pycharm": {
     "is_executing": true
    }
   },
   "outputs": [],
   "source": [
    "df['lemma_lower_text'].iloc[0]"
   ]
  },
  {
   "cell_type": "markdown",
   "metadata": {},
   "source": [
    "## TF-IDF the lemma_lower_text field"
   ]
  },
  {
   "cell_type": "code",
   "execution_count": null,
   "metadata": {
    "pycharm": {
     "is_executing": true
    }
   },
   "outputs": [],
   "source": [
    "%%time\n",
    "#make a new tfidf mtx\n",
    "tfidf = TfidfVectorizer(min_df=1, stop_words=\"english\")\n",
    "\n",
    "tfidf_mtx = tfidf.fit_transform(df['lemma_lower_text'])"
   ]
  },
  {
   "cell_type": "code",
   "execution_count": null,
   "metadata": {
    "pycharm": {
     "is_executing": true
    }
   },
   "outputs": [],
   "source": [
    "print(tfidf_mtx.shape)  \n",
    "print(type(tfidf_mtx))"
   ]
  },
  {
   "cell_type": "code",
   "execution_count": null,
   "metadata": {
    "pycharm": {
     "is_executing": true
    }
   },
   "outputs": [],
   "source": [
    "tfidf_mtx.todense()"
   ]
  },
  {
   "cell_type": "markdown",
   "metadata": {},
   "source": [
    "## Pickle the sparse matrix"
   ]
  },
  {
   "cell_type": "code",
   "execution_count": null,
   "metadata": {
    "pycharm": {
     "is_executing": true
    }
   },
   "outputs": [],
   "source": [
    "import pickle\n",
    "pkl_filename = f'nlp/our_tfidf_mtx.pkl'\n",
    "with open(pkl_filename, 'wb') as f:\n",
    "    pickle.dump(tfidf_mtx, f)\n",
    "    print(f'saved pickled tfidf matrix to {pkl_filename}')"
   ]
  },
  {
   "cell_type": "markdown",
   "metadata": {},
   "source": [
    "### Features\n",
    "- Work on improving and reducing and cleaning up features\n",
    "- create a function that steps through all the steps in one call"
   ]
  },
  {
   "cell_type": "code",
   "execution_count": null,
   "metadata": {
    "pycharm": {
     "is_executing": true
    }
   },
   "outputs": [],
   "source": [
    "# Future work: clean up features (without losing acronyms!)\n",
    "feature_names = tfidf.get_feature_names()\n",
    "print(feature_names[0:30])"
   ]
  },
  {
   "cell_type": "code",
   "execution_count": null,
   "metadata": {
    "pycharm": {
     "is_executing": true
    }
   },
   "outputs": [],
   "source": [
    "# stopwords are removed\n",
    "'of' in feature_names"
   ]
  },
  {
   "cell_type": "markdown",
   "metadata": {},
   "source": [
    "## Save Vocabulary Features"
   ]
  },
  {
   "cell_type": "code",
   "execution_count": null,
   "metadata": {
    "pycharm": {
     "is_executing": true
    }
   },
   "outputs": [],
   "source": [
    "# write vocab to file for future cleaning:\n",
    "\n",
    "with open('nlp/vocab.txt', 'w') as f:\n",
    "    for word in feature_names:\n",
    "        f.write(f\"'{word}', \")\n",
    "\n",
    "print(os.path.join(os.getcwd(), 'vocab.txt'))\n"
   ]
  },
  {
   "cell_type": "code",
   "execution_count": null,
   "metadata": {
    "pycharm": {
     "is_executing": true
    }
   },
   "outputs": [],
   "source": [
    "print(feature_names)"
   ]
  },
  {
   "cell_type": "markdown",
   "metadata": {},
   "source": [
    "## Process a new incoming record\n",
    "\n",
    "- clean and lower and lemmatize and repeat all the same data prep steps\n",
    "- use tfidf to make a new document vector\n",
    "- compare to each row in the matrix to get a cosine score\n",
    "- take top 5 scores as recommendations to applicants"
   ]
  },
  {
   "cell_type": "code",
   "execution_count": null,
   "metadata": {
    "pycharm": {
     "is_executing": true
    }
   },
   "outputs": [],
   "source": [
    "new_applicant = \"\"\"\n",
    "I am looking for a job as an english teacher in a high school.  \n",
    "I am interested in working with students to develop their confidence \n",
    "and problem solving skills.  I have 5 years English Language teaching \n",
    "experience in the classroom.  I have no problem learning new skills and am a \n",
    "continuous learner.  I love working with adolescents and youth\n",
    "to show them the value of the english language and literature.\n",
    "\"\"\"\n",
    "\n",
    "applicant_lemmas = cleanup_text(new_applicant)"
   ]
  },
  {
   "cell_type": "code",
   "execution_count": null,
   "metadata": {
    "pycharm": {
     "is_executing": true
    }
   },
   "outputs": [],
   "source": [
    "corpus_tfidf = tfidf\n",
    "corpus_tfidf_mtx = tfidf_mtx\n",
    "corpus_vocab = feature_names"
   ]
  },
  {
   "cell_type": "markdown",
   "metadata": {},
   "source": [
    "### Fit incoming text to _corpus vocabulary_"
   ]
  },
  {
   "cell_type": "code",
   "execution_count": null,
   "metadata": {
    "pycharm": {
     "is_executing": true
    }
   },
   "outputs": [],
   "source": [
    "applicant_tfidf = TfidfVectorizer().fit(corpus_vocab)  # <-- this is the difference, fit new on corpus vocab"
   ]
  },
  {
   "cell_type": "markdown",
   "metadata": {},
   "source": [
    "### Create tfidf-vector transforming applicant lemmas"
   ]
  },
  {
   "cell_type": "code",
   "execution_count": null,
   "metadata": {
    "pycharm": {
     "is_executing": true
    }
   },
   "outputs": [],
   "source": [
    "# Transform each new applicant lemmas\n",
    "applicant_tfidf_vector = applicant_tfidf.transform([applicant_lemmas])  # <-- and this (fit-corpus, transform applicant)"
   ]
  },
  {
   "cell_type": "code",
   "execution_count": null,
   "metadata": {
    "pycharm": {
     "is_executing": true
    }
   },
   "outputs": [],
   "source": [
    "applicant_tfidf_vector.shape"
   ]
  },
  {
   "cell_type": "markdown",
   "metadata": {},
   "source": [
    "## Calculate cosine similarities \n",
    "- Determine cosine similarity between an applicant and each job listing"
   ]
  },
  {
   "cell_type": "code",
   "execution_count": null,
   "metadata": {
    "pycharm": {
     "is_executing": true
    }
   },
   "outputs": [],
   "source": [
    "cosine_similarities = cosine_similarity(applicant_tfidf_vector, corpus_tfidf_mtx).flatten()\n",
    "\n",
    "# Pick the top matches\n",
    "best_job_match_indices = cosine_similarities.argsort()[:-11:-1]"
   ]
  },
  {
   "cell_type": "markdown",
   "metadata": {},
   "source": [
    "## Peek at best job matches"
   ]
  },
  {
   "cell_type": "code",
   "execution_count": null,
   "metadata": {
    "pycharm": {
     "is_executing": true
    }
   },
   "outputs": [],
   "source": [
    "df['title'].iloc[best_job_match_indices]"
   ]
  },
  {
   "cell_type": "code",
   "execution_count": null,
   "metadata": {
    "pycharm": {
     "is_executing": true
    }
   },
   "outputs": [],
   "source": []
  }
 ],
 "metadata": {
  "kernelspec": {
   "name": "python3",
   "language": "python",
   "display_name": "Python 3"
  },
  "language_info": {
   "codemirror_mode": {
    "name": "ipython",
    "version": 3
   },
   "file_extension": ".py",
   "mimetype": "text/x-python",
   "name": "python",
   "nbconvert_exporter": "python",
   "pygments_lexer": "ipython3",
   "version": "3.6.8"
  }
 },
 "nbformat": 4,
 "nbformat_minor": 2
}